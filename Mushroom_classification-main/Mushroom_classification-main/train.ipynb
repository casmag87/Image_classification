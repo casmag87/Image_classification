{
 "cells": [
  {
   "cell_type": "code",
   "execution_count": 1,
   "metadata": {},
   "outputs": [],
   "source": [
    "import os\n",
    "import cv2\n",
    "import splitfolders as sf\n",
    "import opendatasets as od\n",
    "import load as ld\n",
    "import pandas as pd\n",
    "from sklearn.metrics import classification_report\n",
    "from tensorflow.keras import datasets, layers, models\n",
    "from sklearn.utils import shuffle\n",
    "import matplotlib.pyplot as plt\n",
    "import numpy as np\n",
    "import seaborn as sns\n"
   ]
  },
  {
   "cell_type": "code",
   "execution_count": null,
   "metadata": {},
   "outputs": [],
   "source": [
    "od.download(\"https://www.kaggle.com/datasets/maysee/mushrooms-classification-common-genuss-images\")"
   ]
  },
  {
   "cell_type": "code",
   "execution_count": null,
   "metadata": {},
   "outputs": [],
   "source": [
    "ld.split_data()"
   ]
  },
  {
   "cell_type": "code",
   "execution_count": 2,
   "metadata": {},
   "outputs": [
    {
     "name": "stdout",
     "output_type": "stream",
     "text": [
      "loadingtrain\n",
      "./Mushrooms/Mushrooms_data/train\n",
      "['Agaricus', 'Amanita', 'Boletus', 'Cortinarius', 'Entoloma', 'Hygrocybe', 'Lactarius', 'Mushrooms', 'Russula', 'Suillus']\n",
      "<class 'KeyError'> 'Mushrooms'\n",
      "loadingtest\n",
      "./Mushrooms/Mushrooms_data/test\n",
      "['Agaricus', 'Amanita', 'Boletus', 'Cortinarius', 'Entoloma', 'Hygrocybe', 'Lactarius', 'Mushrooms', 'Russula', 'Suillus']\n",
      "<class 'KeyError'> 'Mushrooms'\n"
     ]
    }
   ],
   "source": [
    "(train_images, train_labels), (test_images, test_labels) = ld.load_data()"
   ]
  },
  {
   "cell_type": "code",
   "execution_count": 3,
   "metadata": {},
   "outputs": [
    {
     "name": "stdout",
     "output_type": "stream",
     "text": [
      "(5367, 32, 32, 3)\n",
      "(5367,)\n",
      "(679, 32, 32, 3)\n",
      "(679,)\n"
     ]
    }
   ],
   "source": [
    "print(train_images.shape)\n",
    "print(train_labels.shape)\n",
    "print(test_images.shape)\n",
    "print(test_labels.shape)"
   ]
  },
  {
   "cell_type": "code",
   "execution_count": 7,
   "metadata": {},
   "outputs": [
    {
     "data": {
      "text/html": [
       "<div>\n",
       "<style scoped>\n",
       "    .dataframe tbody tr th:only-of-type {\n",
       "        vertical-align: middle;\n",
       "    }\n",
       "\n",
       "    .dataframe tbody tr th {\n",
       "        vertical-align: top;\n",
       "    }\n",
       "\n",
       "    .dataframe thead th {\n",
       "        text-align: right;\n",
       "    }\n",
       "</style>\n",
       "<table border=\"1\" class=\"dataframe\">\n",
       "  <thead>\n",
       "    <tr style=\"text-align: right;\">\n",
       "      <th></th>\n",
       "      <th>Train_labels</th>\n",
       "      <th>Name</th>\n",
       "    </tr>\n",
       "  </thead>\n",
       "  <tbody>\n",
       "    <tr>\n",
       "      <th>0</th>\n",
       "      <td>858</td>\n",
       "      <td>Boletus</td>\n",
       "    </tr>\n",
       "    <tr>\n",
       "      <th>1</th>\n",
       "      <td>291</td>\n",
       "      <td>Entoloma</td>\n",
       "    </tr>\n",
       "    <tr>\n",
       "      <th>2</th>\n",
       "      <td>918</td>\n",
       "      <td>Russula</td>\n",
       "    </tr>\n",
       "    <tr>\n",
       "      <th>3</th>\n",
       "      <td>248</td>\n",
       "      <td>Suillus</td>\n",
       "    </tr>\n",
       "    <tr>\n",
       "      <th>4</th>\n",
       "      <td>1250</td>\n",
       "      <td>Lactarius</td>\n",
       "    </tr>\n",
       "    <tr>\n",
       "      <th>5</th>\n",
       "      <td>600</td>\n",
       "      <td>Amanita</td>\n",
       "    </tr>\n",
       "    <tr>\n",
       "      <th>6</th>\n",
       "      <td>282</td>\n",
       "      <td>Agaricus</td>\n",
       "    </tr>\n",
       "    <tr>\n",
       "      <th>7</th>\n",
       "      <td>252</td>\n",
       "      <td>Hygrocybe</td>\n",
       "    </tr>\n",
       "    <tr>\n",
       "      <th>8</th>\n",
       "      <td>668</td>\n",
       "      <td>Cortinarius</td>\n",
       "    </tr>\n",
       "  </tbody>\n",
       "</table>\n",
       "</div>"
      ],
      "text/plain": [
       "   Train_labels         Name\n",
       "0           858      Boletus\n",
       "1           291     Entoloma\n",
       "2           918      Russula\n",
       "3           248      Suillus\n",
       "4          1250    Lactarius\n",
       "5           600      Amanita\n",
       "6           282     Agaricus\n",
       "7           252    Hygrocybe\n",
       "8           668  Cortinarius"
      ]
     },
     "execution_count": 7,
     "metadata": {},
     "output_type": "execute_result"
    }
   ],
   "source": [
    "class_names = ['Boletus','Entoloma','Russula','Suillus','Lactarius','Amanita','Agaricus','Hygrocybe','Cortinarius']\n",
    "\n",
    "\n",
    "_, train_count = np.unique(train_labels,return_counts=True)\n",
    "\n",
    "df = pd.DataFrame(data = train_count)\n",
    "# df = df.T\n",
    "df['Index'] = class_names\n",
    "df.columns = ['Train_labels','Name']\n",
    "df\n",
    "\n"
   ]
  },
  {
   "cell_type": "code",
   "execution_count": 17,
   "metadata": {},
   "outputs": [
    {
     "data": {
      "image/png": "[encoded data removed]",
      "text/plain": [
       "<Figure size 432x288 with 1 Axes>"
      ]
     },
     "metadata": {
      "needs_background": "light"
     },
     "output_type": "display_data"
    }
   ],
   "source": [
    "df.set_index(\"Name\").plot.bar()\n",
    "plt.xlabel(\"Mushrooms\")\n",
    "plt.ylabel(\"Count\")\n",
    "plt.title(\"Mushrooms\");"
   ]
  },
  {
   "cell_type": "code",
   "execution_count": 18,
   "metadata": {},
   "outputs": [
    {
     "data": {
      "text/plain": [
       "Text(0.5, 1.0, 'train')"
      ]
     },
     "execution_count": 18,
     "metadata": {},
     "output_type": "execute_result"
    },
    {
     "data": {
      "image/png": "[encoded data removed]",
      "text/plain": [
       "<Figure size 432x288 with 1 Axes>"
      ]
     },
     "metadata": {
      "needs_background": "light"
     },
     "output_type": "display_data"
    }
   ],
   "source": [
    "s = sns.countplot(train_labels)\n",
    "plt.ylim(0,1700)\n",
    "plt.xticks(s.get_xticks(), rotation=60, ha='right')\n",
    "s.set_title(\"train\")\n"
   ]
  },
  {
   "cell_type": "code",
   "execution_count": 19,
   "metadata": {},
   "outputs": [
    {
     "name": "stdout",
     "output_type": "stream",
     "text": [
      "[[[248. 251. 253.]\n",
      "  [251. 250. 253.]\n",
      "  [179. 194. 197.]\n",
      "  ...\n",
      "  [ 15.  46.  22.]\n",
      "  [160. 196. 152.]\n",
      "  [ 48.  81.  51.]]\n",
      "\n",
      " [[ 74. 106.  90.]\n",
      "  [102. 166.  70.]\n",
      "  [102. 167.  89.]\n",
      "  ...\n",
      "  [ 30.  65.  28.]\n",
      "  [ 46.  83.  41.]\n",
      "  [ 48.  94.  34.]]\n",
      "\n",
      " [[ 85. 108. 103.]\n",
      "  [117. 181.  71.]\n",
      "  [ 82. 143.  56.]\n",
      "  ...\n",
      "  [ 65.  97.  71.]\n",
      "  [ 92. 136.  50.]\n",
      "  [ 40.  73.  53.]]\n",
      "\n",
      " ...\n",
      "\n",
      " [[ 44.  44.  42.]\n",
      "  [ 90.  97.  89.]\n",
      "  [ 23.  34.  35.]\n",
      "  ...\n",
      "  [ 89.  79.  77.]\n",
      "  [ 76. 108.  71.]\n",
      "  [ 44.  37.  28.]]\n",
      "\n",
      " [[ 21.  23.  22.]\n",
      "  [  2.   2.   3.]\n",
      "  [ 34.  34.  36.]\n",
      "  ...\n",
      "  [ 27.  35.  37.]\n",
      "  [ 66.  67.  61.]\n",
      "  [ 11.  14.  10.]]\n",
      "\n",
      " [[ 34.  34.  36.]\n",
      "  [ 35.  39.  38.]\n",
      "  [ 26.  30.  31.]\n",
      "  ...\n",
      "  [ 53.  41.  43.]\n",
      "  [ 74.  80.  67.]\n",
      "  [ 56.  49.  51.]]]\n"
     ]
    }
   ],
   "source": [
    "index = 0\n",
    "print(train_images[index])\n"
   ]
  },
  {
   "cell_type": "code",
   "execution_count": 20,
   "metadata": {},
   "outputs": [
    {
     "data": {
      "image/png": "[encoded data removed]",
      "text/plain": [
       "<Figure size 1080x144 with 1 Axes>"
      ]
     },
     "metadata": {
      "needs_background": "light"
     },
     "output_type": "display_data"
    }
   ],
   "source": [
    "ld.plot_sample(train_images, train_labels, index)"
   ]
  },
  {
   "cell_type": "code",
   "execution_count": 21,
   "metadata": {},
   "outputs": [],
   "source": [
    "train_images /= 255\n",
    "test_images /= 255"
   ]
  },
  {
   "cell_type": "code",
   "execution_count": 22,
   "metadata": {},
   "outputs": [
    {
     "name": "stdout",
     "output_type": "stream",
     "text": [
      "[[[0.97254902 0.98431373 0.99215686]\n",
      "  [0.98431373 0.98039216 0.99215686]\n",
      "  [0.70196078 0.76078431 0.77254902]\n",
      "  ...\n",
      "  [0.05882353 0.18039216 0.08627451]\n",
      "  [0.62745098 0.76862745 0.59607843]\n",
      "  [0.18823529 0.31764706 0.2       ]]\n",
      "\n",
      " [[0.29019608 0.41568627 0.35294118]\n",
      "  [0.4        0.65098039 0.2745098 ]\n",
      "  [0.4        0.65490196 0.34901961]\n",
      "  ...\n",
      "  [0.11764706 0.25490196 0.10980392]\n",
      "  [0.18039216 0.3254902  0.16078431]\n",
      "  [0.18823529 0.36862745 0.13333333]]\n",
      "\n",
      " [[0.33333333 0.42352941 0.40392157]\n",
      "  [0.45882353 0.70980392 0.27843137]\n",
      "  [0.32156863 0.56078431 0.21960784]\n",
      "  ...\n",
      "  [0.25490196 0.38039216 0.27843137]\n",
      "  [0.36078431 0.53333333 0.19607843]\n",
      "  [0.15686275 0.28627451 0.20784314]]\n",
      "\n",
      " ...\n",
      "\n",
      " [[0.17254902 0.17254902 0.16470588]\n",
      "  [0.35294118 0.38039216 0.34901961]\n",
      "  [0.09019608 0.13333333 0.1372549 ]\n",
      "  ...\n",
      "  [0.34901961 0.30980392 0.30196078]\n",
      "  [0.29803922 0.42352941 0.27843137]\n",
      "  [0.17254902 0.14509804 0.10980392]]\n",
      "\n",
      " [[0.08235294 0.09019608 0.08627451]\n",
      "  [0.00784314 0.00784314 0.01176471]\n",
      "  [0.13333333 0.13333333 0.14117647]\n",
      "  ...\n",
      "  [0.10588235 0.1372549  0.14509804]\n",
      "  [0.25882353 0.2627451  0.23921569]\n",
      "  [0.04313725 0.05490196 0.03921569]]\n",
      "\n",
      " [[0.13333333 0.13333333 0.14117647]\n",
      "  [0.1372549  0.15294118 0.14901961]\n",
      "  [0.10196078 0.11764706 0.12156863]\n",
      "  ...\n",
      "  [0.20784314 0.16078431 0.16862745]\n",
      "  [0.29019608 0.31372549 0.2627451 ]\n",
      "  [0.21960784 0.19215686 0.2       ]]]\n"
     ]
    }
   ],
   "source": [
    "print(train_images[0])"
   ]
  },
  {
   "cell_type": "code",
   "execution_count": 23,
   "metadata": {},
   "outputs": [],
   "source": [
    "cnn = models.Sequential([\n",
    "          # cnn \n",
    "          layers.Conv2D(filters=16, kernel_size=(3,3), activation='relu', padding='same', input_shape=(32,32,3)),\n",
    "          layers.MaxPooling2D((2,2)),\n",
    "          layers.Conv2D(filters=32, kernel_size=(3,3), activation='relu', padding='same'),\n",
    "          layers.MaxPooling2D((2,2)),\n",
    "          layers.Conv2D(filters=64, kernel_size=(3,3), activation='relu', padding='same'),\n",
    "          layers.MaxPooling2D((2,2)),\n",
    "   \n",
    "      \n",
    "          #dense\n",
    "          layers.Flatten(),\n",
    "          layers.Dense(1024, activation='relu'),\n",
    "          layers.Dropout(0.5),\n",
    "          layers.Dense(9, activation='softmax')\n",
    "])"
   ]
  },
  {
   "cell_type": "code",
   "execution_count": 24,
   "metadata": {},
   "outputs": [],
   "source": [
    "cnn.compile(optimizer='adam',\n",
    "                loss='sparse_categorical_crossentropy',\n",
    "                metrics=['accuracy'])\n"
   ]
  },
  {
   "cell_type": "code",
   "execution_count": 25,
   "metadata": {},
   "outputs": [
    {
     "name": "stdout",
     "output_type": "stream",
     "text": [
      "Epoch 1/10\n",
      "154/154 [==============================] - 3s 17ms/step - loss: 1.9848 - accuracy: 0.2556\n",
      "Epoch 2/10\n",
      "154/154 [==============================] - 3s 16ms/step - loss: 1.8074 - accuracy: 0.3516\n",
      "Epoch 3/10\n",
      "154/154 [==============================] - 3s 17ms/step - loss: 1.6886 - accuracy: 0.4013\n",
      "Epoch 4/10\n",
      "154/154 [==============================] - 3s 16ms/step - loss: 1.6017 - accuracy: 0.4343\n",
      "Epoch 5/10\n",
      "154/154 [==============================] - 3s 17ms/step - loss: 1.5194 - accuracy: 0.4595\n",
      "Epoch 6/10\n",
      "154/154 [==============================] - 2s 16ms/step - loss: 1.4173 - accuracy: 0.4966\n",
      "Epoch 7/10\n",
      "154/154 [==============================] - 2s 16ms/step - loss: 1.3117 - accuracy: 0.5381\n",
      "Epoch 8/10\n",
      "154/154 [==============================] - 3s 16ms/step - loss: 1.1955 - accuracy: 0.5828\n",
      "Epoch 9/10\n",
      "154/154 [==============================] - 2s 16ms/step - loss: 1.0812 - accuracy: 0.6255\n",
      "Epoch 10/10\n",
      "154/154 [==============================] - 3s 16ms/step - loss: 0.9417 - accuracy: 0.6730\n"
     ]
    }
   ],
   "source": [
    "history = cnn.fit(train_images, train_labels, epochs=10,batch_size = 35)"
   ]
  },
  {
   "cell_type": "code",
   "execution_count": 26,
   "metadata": {},
   "outputs": [
    {
     "name": "stdout",
     "output_type": "stream",
     "text": [
      "22/22 [==============================] - 0s 6ms/step - loss: 1.6976 - accuracy: 0.4300\n",
      "43.004417419433594 %\n"
     ]
    }
   ],
   "source": [
    "model_accuracy = cnn.evaluate(test_images, test_labels)[1]\n",
    "print(model_accuracy*100, '%')"
   ]
  },
  {
   "cell_type": "code",
   "execution_count": 27,
   "metadata": {},
   "outputs": [
    {
     "name": "stdout",
     "output_type": "stream",
     "text": [
      "INFO:tensorflow:Assets written to: model/assets\n"
     ]
    }
   ],
   "source": [
    "cnn.save('model')"
   ]
  },
  {
   "cell_type": "code",
   "execution_count": 28,
   "metadata": {},
   "outputs": [
    {
     "data": {
      "image/png": "[encoded data removed]",
      "text/plain": [
       "<Figure size 432x288 with 1 Axes>"
      ]
     },
     "metadata": {
      "needs_background": "light"
     },
     "output_type": "display_data"
    }
   ],
   "source": [
    "plt.plot(history.history['accuracy'])\n",
    "\n",
    "plt.title('Model (Præcision)')\n",
    "plt.ylabel('Præcision')\n",
    "plt.xlabel('Epoch')\n",
    "plt.legend(['Træningsdata'], loc='lower right')\n",
    "plt.show()"
   ]
  },
  {
   "cell_type": "code",
   "execution_count": 29,
   "metadata": {},
   "outputs": [
    {
     "data": {
      "image/png": "[encoded data removed]",
      "text/plain": [
       "<Figure size 432x288 with 1 Axes>"
      ]
     },
     "metadata": {
      "needs_background": "light"
     },
     "output_type": "display_data"
    }
   ],
   "source": [
    "plt.plot(history.history['loss'])\n",
    "\n",
    "plt.title('Model (Loss)')\n",
    "plt.ylabel('Loss')\n",
    "plt.xlabel('Epoch')\n",
    "plt.legend(['Træningsdatasæt'], loc='upper right')\n",
    "plt.show()"
   ]
  },
  {
   "cell_type": "code",
   "execution_count": 30,
   "metadata": {},
   "outputs": [],
   "source": [
    "pred = cnn.predict(test_images, batch_size=35)\n",
    "pred = np.argmax(pred, axis=-1)"
   ]
  },
  {
   "cell_type": "code",
   "execution_count": 31,
   "metadata": {},
   "outputs": [
    {
     "name": "stdout",
     "output_type": "stream",
     "text": [
      "(679,)\n",
      "(679,)\n"
     ]
    }
   ],
   "source": [
    "print(test_labels.shape)\n",
    "print(pred.shape)\n"
   ]
  },
  {
   "cell_type": "code",
   "execution_count": 32,
   "metadata": {},
   "outputs": [],
   "source": [
    "from sklearn.metrics import classification_report"
   ]
  },
  {
   "cell_type": "code",
   "execution_count": 33,
   "metadata": {},
   "outputs": [
    {
     "name": "stdout",
     "output_type": "stream",
     "text": [
      "              precision    recall  f1-score   support\n",
      "\n",
      "           0       0.61      0.71      0.66       108\n",
      "           1       0.43      0.16      0.24        37\n",
      "           2       0.43      0.37      0.40       116\n",
      "           3       0.20      0.12      0.15        32\n",
      "           4       0.45      0.60      0.51       157\n",
      "           5       0.41      0.44      0.43        75\n",
      "           6       0.16      0.31      0.21        36\n",
      "           7       0.53      0.24      0.33        33\n",
      "           8       0.34      0.19      0.24        85\n",
      "\n",
      "    accuracy                           0.43       679\n",
      "   macro avg       0.40      0.35      0.35       679\n",
      "weighted avg       0.43      0.43      0.42       679\n",
      "\n"
     ]
    }
   ],
   "source": [
    "print(classification_report(test_labels,pred))"
   ]
  },
  {
   "cell_type": "code",
   "execution_count": null,
   "metadata": {},
   "outputs": [],
   "source": []
  },
  {
   "cell_type": "code",
   "execution_count": null,
   "metadata": {},
   "outputs": [],
   "source": []
  }
 ],
 "metadata": {
  "kernelspec": {
   "display_name": "Python 3",
   "language": "python",
   "name": "python3"
  },
  "language_info": {
   "codemirror_mode": {
    "name": "ipython",
    "version": 3
   },
   "file_extension": ".py",
   "mimetype": "text/x-python",
   "name": "python",
   "nbconvert_exporter": "python",
   "pygments_lexer": "ipython3",
   "version": "3.7.6"
  }
 },
 "nbformat": 4,
 "nbformat_minor": 4
}
